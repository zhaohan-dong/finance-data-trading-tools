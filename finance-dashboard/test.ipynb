{
 "cells": [
  {
   "cell_type": "code",
   "execution_count": 2,
   "metadata": {
    "collapsed": true,
    "ExecuteTime": {
     "start_time": "2023-04-07T19:23:15.109803Z",
     "end_time": "2023-04-07T19:23:16.083204Z"
    }
   },
   "outputs": [],
   "source": [
    "import yfinance as yf\n",
    "import pandas as pd\n",
    "import pandas_datareader as pdr\n",
    "import datetime"
   ]
  },
  {
   "cell_type": "code",
   "execution_count": 3,
   "outputs": [],
   "source": [
    "msft = yf.Ticker(\"MSFT\")\n",
    "\n",
    "#df = msft.history(period=\"7d\", interval=\"1m\")"
   ],
   "metadata": {
    "collapsed": false,
    "ExecuteTime": {
     "start_time": "2023-04-07T19:23:16.637886Z",
     "end_time": "2023-04-07T19:23:16.644151Z"
    }
   }
  },
  {
   "cell_type": "code",
   "execution_count": 20,
   "outputs": [],
   "source": [
    "opt.to_csv(\"opt.csv\")"
   ],
   "metadata": {
    "collapsed": false,
    "ExecuteTime": {
     "start_time": "2023-04-07T14:02:15.628661Z",
     "end_time": "2023-04-07T14:02:15.632292Z"
    }
   }
  },
  {
   "cell_type": "code",
   "execution_count": 42,
   "outputs": [
    {
     "ename": "TypeError",
     "evalue": "first argument must be an iterable of pandas objects, you passed an object of type \"DataFrame\"",
     "output_type": "error",
     "traceback": [
      "\u001B[0;31m---------------------------------------------------------------------------\u001B[0m",
      "\u001B[0;31mTypeError\u001B[0m                                 Traceback (most recent call last)",
      "Cell \u001B[0;32mIn[42], line 1\u001B[0m\n\u001B[0;32m----> 1\u001B[0m opt \u001B[38;5;241m=\u001B[39m \u001B[43mpd\u001B[49m\u001B[38;5;241;43m.\u001B[39;49m\u001B[43mconcat\u001B[49m\u001B[43m(\u001B[49m\u001B[43mmsft\u001B[49m\u001B[38;5;241;43m.\u001B[39;49m\u001B[43moption_chain\u001B[49m\u001B[43m(\u001B[49m\u001B[43mdate\u001B[49m\u001B[38;5;241;43m=\u001B[39;49m\u001B[43mmsft\u001B[49m\u001B[38;5;241;43m.\u001B[39;49m\u001B[43moptions\u001B[49m\u001B[43m[\u001B[49m\u001B[38;5;241;43m1\u001B[39;49m\u001B[43m]\u001B[49m\u001B[43m)\u001B[49m\u001B[38;5;241;43m.\u001B[39;49m\u001B[43mcalls\u001B[49m\u001B[43m)\u001B[49m\n\u001B[1;32m      2\u001B[0m opt[\u001B[38;5;124m\"\u001B[39m\u001B[38;5;124mexpirationDate\u001B[39m\u001B[38;5;124m\"\u001B[39m] \u001B[38;5;241m=\u001B[39m msft\u001B[38;5;241m.\u001B[39moptions[\u001B[38;5;241m1\u001B[39m]\n",
      "File \u001B[0;32m/Volumes/Diskette1/dev-project/dash-finance/venv/lib/python3.11/site-packages/pandas/core/reshape/concat.py:372\u001B[0m, in \u001B[0;36mconcat\u001B[0;34m(objs, axis, join, ignore_index, keys, levels, names, verify_integrity, sort, copy)\u001B[0m\n\u001B[1;32m    369\u001B[0m \u001B[38;5;28;01melif\u001B[39;00m copy \u001B[38;5;129;01mand\u001B[39;00m using_copy_on_write():\n\u001B[1;32m    370\u001B[0m     copy \u001B[38;5;241m=\u001B[39m \u001B[38;5;28;01mFalse\u001B[39;00m\n\u001B[0;32m--> 372\u001B[0m op \u001B[38;5;241m=\u001B[39m \u001B[43m_Concatenator\u001B[49m\u001B[43m(\u001B[49m\n\u001B[1;32m    373\u001B[0m \u001B[43m    \u001B[49m\u001B[43mobjs\u001B[49m\u001B[43m,\u001B[49m\n\u001B[1;32m    374\u001B[0m \u001B[43m    \u001B[49m\u001B[43maxis\u001B[49m\u001B[38;5;241;43m=\u001B[39;49m\u001B[43maxis\u001B[49m\u001B[43m,\u001B[49m\n\u001B[1;32m    375\u001B[0m \u001B[43m    \u001B[49m\u001B[43mignore_index\u001B[49m\u001B[38;5;241;43m=\u001B[39;49m\u001B[43mignore_index\u001B[49m\u001B[43m,\u001B[49m\n\u001B[1;32m    376\u001B[0m \u001B[43m    \u001B[49m\u001B[43mjoin\u001B[49m\u001B[38;5;241;43m=\u001B[39;49m\u001B[43mjoin\u001B[49m\u001B[43m,\u001B[49m\n\u001B[1;32m    377\u001B[0m \u001B[43m    \u001B[49m\u001B[43mkeys\u001B[49m\u001B[38;5;241;43m=\u001B[39;49m\u001B[43mkeys\u001B[49m\u001B[43m,\u001B[49m\n\u001B[1;32m    378\u001B[0m \u001B[43m    \u001B[49m\u001B[43mlevels\u001B[49m\u001B[38;5;241;43m=\u001B[39;49m\u001B[43mlevels\u001B[49m\u001B[43m,\u001B[49m\n\u001B[1;32m    379\u001B[0m \u001B[43m    \u001B[49m\u001B[43mnames\u001B[49m\u001B[38;5;241;43m=\u001B[39;49m\u001B[43mnames\u001B[49m\u001B[43m,\u001B[49m\n\u001B[1;32m    380\u001B[0m \u001B[43m    \u001B[49m\u001B[43mverify_integrity\u001B[49m\u001B[38;5;241;43m=\u001B[39;49m\u001B[43mverify_integrity\u001B[49m\u001B[43m,\u001B[49m\n\u001B[1;32m    381\u001B[0m \u001B[43m    \u001B[49m\u001B[43mcopy\u001B[49m\u001B[38;5;241;43m=\u001B[39;49m\u001B[43mcopy\u001B[49m\u001B[43m,\u001B[49m\n\u001B[1;32m    382\u001B[0m \u001B[43m    \u001B[49m\u001B[43msort\u001B[49m\u001B[38;5;241;43m=\u001B[39;49m\u001B[43msort\u001B[49m\u001B[43m,\u001B[49m\n\u001B[1;32m    383\u001B[0m \u001B[43m\u001B[49m\u001B[43m)\u001B[49m\n\u001B[1;32m    385\u001B[0m \u001B[38;5;28;01mreturn\u001B[39;00m op\u001B[38;5;241m.\u001B[39mget_result()\n",
      "File \u001B[0;32m/Volumes/Diskette1/dev-project/dash-finance/venv/lib/python3.11/site-packages/pandas/core/reshape/concat.py:407\u001B[0m, in \u001B[0;36m_Concatenator.__init__\u001B[0;34m(self, objs, axis, join, keys, levels, names, ignore_index, verify_integrity, copy, sort)\u001B[0m\n\u001B[1;32m    393\u001B[0m \u001B[38;5;28;01mdef\u001B[39;00m \u001B[38;5;21m__init__\u001B[39m(\n\u001B[1;32m    394\u001B[0m     \u001B[38;5;28mself\u001B[39m,\n\u001B[1;32m    395\u001B[0m     objs: Iterable[NDFrame] \u001B[38;5;241m|\u001B[39m Mapping[HashableT, NDFrame],\n\u001B[0;32m   (...)\u001B[0m\n\u001B[1;32m    404\u001B[0m     sort: \u001B[38;5;28mbool\u001B[39m \u001B[38;5;241m=\u001B[39m \u001B[38;5;28;01mFalse\u001B[39;00m,\n\u001B[1;32m    405\u001B[0m ) \u001B[38;5;241m-\u001B[39m\u001B[38;5;241m>\u001B[39m \u001B[38;5;28;01mNone\u001B[39;00m:\n\u001B[1;32m    406\u001B[0m     \u001B[38;5;28;01mif\u001B[39;00m \u001B[38;5;28misinstance\u001B[39m(objs, (ABCSeries, ABCDataFrame, \u001B[38;5;28mstr\u001B[39m)):\n\u001B[0;32m--> 407\u001B[0m         \u001B[38;5;28;01mraise\u001B[39;00m \u001B[38;5;167;01mTypeError\u001B[39;00m(\n\u001B[1;32m    408\u001B[0m             \u001B[38;5;124m\"\u001B[39m\u001B[38;5;124mfirst argument must be an iterable of pandas \u001B[39m\u001B[38;5;124m\"\u001B[39m\n\u001B[1;32m    409\u001B[0m             \u001B[38;5;124mf\u001B[39m\u001B[38;5;124m'\u001B[39m\u001B[38;5;124mobjects, you passed an object of type \u001B[39m\u001B[38;5;124m\"\u001B[39m\u001B[38;5;132;01m{\u001B[39;00m\u001B[38;5;28mtype\u001B[39m(objs)\u001B[38;5;241m.\u001B[39m\u001B[38;5;18m__name__\u001B[39m\u001B[38;5;132;01m}\u001B[39;00m\u001B[38;5;124m\"\u001B[39m\u001B[38;5;124m'\u001B[39m\n\u001B[1;32m    410\u001B[0m         )\n\u001B[1;32m    412\u001B[0m     \u001B[38;5;28;01mif\u001B[39;00m join \u001B[38;5;241m==\u001B[39m \u001B[38;5;124m\"\u001B[39m\u001B[38;5;124mouter\u001B[39m\u001B[38;5;124m\"\u001B[39m:\n\u001B[1;32m    413\u001B[0m         \u001B[38;5;28mself\u001B[39m\u001B[38;5;241m.\u001B[39mintersect \u001B[38;5;241m=\u001B[39m \u001B[38;5;28;01mFalse\u001B[39;00m\n",
      "\u001B[0;31mTypeError\u001B[0m: first argument must be an iterable of pandas objects, you passed an object of type \"DataFrame\""
     ]
    }
   ],
   "source": [
    "opt = pd.concat(msft.option_chain(date=msft.options[1]))\n",
    "opt[\"expirationDate\"] = msft.options[1]"
   ],
   "metadata": {
    "collapsed": false,
    "ExecuteTime": {
     "start_time": "2023-04-07T19:42:10.760658Z",
     "end_time": "2023-04-07T19:42:10.865214Z"
    }
   }
  },
  {
   "cell_type": "code",
   "execution_count": 40,
   "outputs": [
    {
     "ename": "AttributeError",
     "evalue": "'DataFrame' object has no attribute 'call'",
     "output_type": "error",
     "traceback": [
      "\u001B[0;31m---------------------------------------------------------------------------\u001B[0m",
      "\u001B[0;31mAttributeError\u001B[0m                            Traceback (most recent call last)",
      "Cell \u001B[0;32mIn[40], line 1\u001B[0m\n\u001B[0;32m----> 1\u001B[0m \u001B[43mopt\u001B[49m\u001B[38;5;241;43m.\u001B[39;49m\u001B[43mcall\u001B[49m\n",
      "File \u001B[0;32m/Volumes/Diskette1/dev-project/dash-finance/venv/lib/python3.11/site-packages/pandas/core/generic.py:5989\u001B[0m, in \u001B[0;36mNDFrame.__getattr__\u001B[0;34m(self, name)\u001B[0m\n\u001B[1;32m   5982\u001B[0m \u001B[38;5;28;01mif\u001B[39;00m (\n\u001B[1;32m   5983\u001B[0m     name \u001B[38;5;129;01mnot\u001B[39;00m \u001B[38;5;129;01min\u001B[39;00m \u001B[38;5;28mself\u001B[39m\u001B[38;5;241m.\u001B[39m_internal_names_set\n\u001B[1;32m   5984\u001B[0m     \u001B[38;5;129;01mand\u001B[39;00m name \u001B[38;5;129;01mnot\u001B[39;00m \u001B[38;5;129;01min\u001B[39;00m \u001B[38;5;28mself\u001B[39m\u001B[38;5;241m.\u001B[39m_metadata\n\u001B[1;32m   5985\u001B[0m     \u001B[38;5;129;01mand\u001B[39;00m name \u001B[38;5;129;01mnot\u001B[39;00m \u001B[38;5;129;01min\u001B[39;00m \u001B[38;5;28mself\u001B[39m\u001B[38;5;241m.\u001B[39m_accessors\n\u001B[1;32m   5986\u001B[0m     \u001B[38;5;129;01mand\u001B[39;00m \u001B[38;5;28mself\u001B[39m\u001B[38;5;241m.\u001B[39m_info_axis\u001B[38;5;241m.\u001B[39m_can_hold_identifiers_and_holds_name(name)\n\u001B[1;32m   5987\u001B[0m ):\n\u001B[1;32m   5988\u001B[0m     \u001B[38;5;28;01mreturn\u001B[39;00m \u001B[38;5;28mself\u001B[39m[name]\n\u001B[0;32m-> 5989\u001B[0m \u001B[38;5;28;01mreturn\u001B[39;00m \u001B[38;5;28;43mobject\u001B[39;49m\u001B[38;5;241;43m.\u001B[39;49m\u001B[38;5;21;43m__getattribute__\u001B[39;49m\u001B[43m(\u001B[49m\u001B[38;5;28;43mself\u001B[39;49m\u001B[43m,\u001B[49m\u001B[43m \u001B[49m\u001B[43mname\u001B[49m\u001B[43m)\u001B[49m\n",
      "\u001B[0;31mAttributeError\u001B[0m: 'DataFrame' object has no attribute 'call'"
     ]
    }
   ],
   "source": [
    "opt.call"
   ],
   "metadata": {
    "collapsed": false,
    "ExecuteTime": {
     "start_time": "2023-04-07T19:42:11.748402Z",
     "end_time": "2023-04-07T19:42:11.751661Z"
    }
   }
  },
  {
   "cell_type": "code",
   "execution_count": 47,
   "outputs": [
    {
     "data": {
      "text/plain": "0.06944515953558193"
     },
     "execution_count": 47,
     "metadata": {},
     "output_type": "execute_result"
    }
   ],
   "source": [
    "msft.info[\"trailingPegRatio\"]/msft.info[\"trailingPE\"]/(1-0.01*msft.info[\"trailingAnnualDividendRate\"])"
   ],
   "metadata": {
    "collapsed": false,
    "ExecuteTime": {
     "start_time": "2023-04-07T18:03:56.165444Z",
     "end_time": "2023-04-07T18:03:56.172203Z"
    }
   }
  },
  {
   "cell_type": "code",
   "execution_count": 55,
   "outputs": [],
   "source": [
    "import zoneinfo\n",
    "pd.DataFrame(msft.info,index=[datetime.datetime(year=2023, month=4, day=7, tzinfo=zoneinfo.ZoneInfo(\"America/New_York\"))]).to_csv(\"2info.csv\")"
   ],
   "metadata": {
    "collapsed": false,
    "ExecuteTime": {
     "start_time": "2023-04-07T18:14:50.767840Z",
     "end_time": "2023-04-07T18:14:50.773899Z"
    }
   }
  },
  {
   "cell_type": "code",
   "execution_count": 39,
   "outputs": [
    {
     "data": {
      "text/plain": "                                 Open        High         Low       Close   \nDatetime                                                                    \n2023-04-05 09:30:00-04:00  285.850006  286.589996  285.563995  286.579987  \\\n2023-04-05 09:31:00-04:00  286.609985  286.982086  286.579987  286.730011   \n2023-04-05 09:32:00-04:00  286.730011  287.000000  286.399994  286.899994   \n2023-04-05 09:33:00-04:00  286.869995  287.149994  286.776001  286.899994   \n2023-04-05 09:34:00-04:00  286.920013  286.920013  286.029999  286.260010   \n...                               ...         ...         ...         ...   \n2023-04-06 15:55:00-04:00  291.084991  291.429993  291.079987  291.407501   \n2023-04-06 15:56:00-04:00  291.410004  291.429993  291.320007  291.380005   \n2023-04-06 15:57:00-04:00  291.369995  291.440002  291.350006  291.420013   \n2023-04-06 15:58:00-04:00  291.415009  291.609985  291.404999  291.500000   \n2023-04-06 15:59:00-04:00  291.500000  291.750000  291.429993  291.570007   \n\n                           Volume  Dividends  Stock Splits  \nDatetime                                                    \n2023-04-05 09:30:00-04:00  774662        0.0           0.0  \n2023-04-05 09:31:00-04:00  105338        0.0           0.0  \n2023-04-05 09:32:00-04:00  108376        0.0           0.0  \n2023-04-05 09:33:00-04:00   91666        0.0           0.0  \n2023-04-05 09:34:00-04:00   99503        0.0           0.0  \n...                           ...        ...           ...  \n2023-04-06 15:55:00-04:00  271389        0.0           0.0  \n2023-04-06 15:56:00-04:00  164173        0.0           0.0  \n2023-04-06 15:57:00-04:00  172909        0.0           0.0  \n2023-04-06 15:58:00-04:00  292809        0.0           0.0  \n2023-04-06 15:59:00-04:00  710810        0.0           0.0  \n\n[780 rows x 7 columns]",
      "text/html": "<div>\n<style scoped>\n    .dataframe tbody tr th:only-of-type {\n        vertical-align: middle;\n    }\n\n    .dataframe tbody tr th {\n        vertical-align: top;\n    }\n\n    .dataframe thead th {\n        text-align: right;\n    }\n</style>\n<table border=\"1\" class=\"dataframe\">\n  <thead>\n    <tr style=\"text-align: right;\">\n      <th></th>\n      <th>Open</th>\n      <th>High</th>\n      <th>Low</th>\n      <th>Close</th>\n      <th>Volume</th>\n      <th>Dividends</th>\n      <th>Stock Splits</th>\n    </tr>\n    <tr>\n      <th>Datetime</th>\n      <th></th>\n      <th></th>\n      <th></th>\n      <th></th>\n      <th></th>\n      <th></th>\n      <th></th>\n    </tr>\n  </thead>\n  <tbody>\n    <tr>\n      <th>2023-04-05 09:30:00-04:00</th>\n      <td>285.850006</td>\n      <td>286.589996</td>\n      <td>285.563995</td>\n      <td>286.579987</td>\n      <td>774662</td>\n      <td>0.0</td>\n      <td>0.0</td>\n    </tr>\n    <tr>\n      <th>2023-04-05 09:31:00-04:00</th>\n      <td>286.609985</td>\n      <td>286.982086</td>\n      <td>286.579987</td>\n      <td>286.730011</td>\n      <td>105338</td>\n      <td>0.0</td>\n      <td>0.0</td>\n    </tr>\n    <tr>\n      <th>2023-04-05 09:32:00-04:00</th>\n      <td>286.730011</td>\n      <td>287.000000</td>\n      <td>286.399994</td>\n      <td>286.899994</td>\n      <td>108376</td>\n      <td>0.0</td>\n      <td>0.0</td>\n    </tr>\n    <tr>\n      <th>2023-04-05 09:33:00-04:00</th>\n      <td>286.869995</td>\n      <td>287.149994</td>\n      <td>286.776001</td>\n      <td>286.899994</td>\n      <td>91666</td>\n      <td>0.0</td>\n      <td>0.0</td>\n    </tr>\n    <tr>\n      <th>2023-04-05 09:34:00-04:00</th>\n      <td>286.920013</td>\n      <td>286.920013</td>\n      <td>286.029999</td>\n      <td>286.260010</td>\n      <td>99503</td>\n      <td>0.0</td>\n      <td>0.0</td>\n    </tr>\n    <tr>\n      <th>...</th>\n      <td>...</td>\n      <td>...</td>\n      <td>...</td>\n      <td>...</td>\n      <td>...</td>\n      <td>...</td>\n      <td>...</td>\n    </tr>\n    <tr>\n      <th>2023-04-06 15:55:00-04:00</th>\n      <td>291.084991</td>\n      <td>291.429993</td>\n      <td>291.079987</td>\n      <td>291.407501</td>\n      <td>271389</td>\n      <td>0.0</td>\n      <td>0.0</td>\n    </tr>\n    <tr>\n      <th>2023-04-06 15:56:00-04:00</th>\n      <td>291.410004</td>\n      <td>291.429993</td>\n      <td>291.320007</td>\n      <td>291.380005</td>\n      <td>164173</td>\n      <td>0.0</td>\n      <td>0.0</td>\n    </tr>\n    <tr>\n      <th>2023-04-06 15:57:00-04:00</th>\n      <td>291.369995</td>\n      <td>291.440002</td>\n      <td>291.350006</td>\n      <td>291.420013</td>\n      <td>172909</td>\n      <td>0.0</td>\n      <td>0.0</td>\n    </tr>\n    <tr>\n      <th>2023-04-06 15:58:00-04:00</th>\n      <td>291.415009</td>\n      <td>291.609985</td>\n      <td>291.404999</td>\n      <td>291.500000</td>\n      <td>292809</td>\n      <td>0.0</td>\n      <td>0.0</td>\n    </tr>\n    <tr>\n      <th>2023-04-06 15:59:00-04:00</th>\n      <td>291.500000</td>\n      <td>291.750000</td>\n      <td>291.429993</td>\n      <td>291.570007</td>\n      <td>710810</td>\n      <td>0.0</td>\n      <td>0.0</td>\n    </tr>\n  </tbody>\n</table>\n<p>780 rows × 7 columns</p>\n</div>"
     },
     "execution_count": 39,
     "metadata": {},
     "output_type": "execute_result"
    }
   ],
   "source": [
    "msft.history(period=\"2d\", interval=\"1m\")"
   ],
   "metadata": {
    "collapsed": false,
    "ExecuteTime": {
     "start_time": "2023-04-07T17:47:27.009041Z",
     "end_time": "2023-04-07T17:47:27.128518Z"
    }
   }
  },
  {
   "cell_type": "code",
   "execution_count": 43,
   "outputs": [
    {
     "data": {
      "text/plain": "{'symbol': 'MSFT',\n 'twoHundredDayAverageChangePercent': 0.1479931,\n 'dividendDate': 1686182400,\n 'fiftyTwoWeekLowChangePercent': 0.366256,\n 'averageAnalystRating': '1.9 - Buy',\n 'language': 'en-US',\n 'earningsTimestampEnd': 1682683200,\n 'regularMarketDayRange': '282.03 - 292.08',\n 'epsForward': 10.75,\n 'regularMarketDayHigh': 292.08,\n 'twoHundredDayAverageChange': 37.591507,\n 'twoHundredDayAverage': 254.0085,\n 'askSize': 10,\n 'bookValue': 24.592,\n 'marketCap': 2170612088832,\n 'fiftyTwoWeekHighChange': -9.519989,\n 'fiftyTwoWeekRange': '213.43 - 301.12',\n 'fiftyDayAverageChange': 27.472809,\n 'exchangeDataDelayedBy': 0,\n 'firstTradeDateMilliseconds': 511108200000,\n 'averageDailyVolume3Month': 31808980,\n 'trailingAnnualDividendRate': 2.6,\n 'fiftyTwoWeekLow': 213.43,\n 'regularMarketVolume': 29770334,\n 'market': 'us_market',\n 'postMarketPrice': 291.6,\n 'quoteSourceName': 'Delayed Quote',\n 'messageBoardId': 'finmb_21835',\n 'priceHint': 2,\n 'sourceInterval': 15,\n 'regularMarketDayLow': 282.03,\n 'exchange': 'NMS',\n 'region': 'US',\n 'shortName': 'Microsoft Corporation',\n 'fiftyDayAverageChangePercent': 0.104013555,\n 'fullExchangeName': 'NasdaqGS',\n 'earningsTimestampStart': 1682333940,\n 'financialCurrency': 'USD',\n 'displayName': 'Microsoft',\n 'gmtOffSetMilliseconds': -14400000,\n 'regularMarketOpen': 283.21,\n 'regularMarketTime': '4:00PM EDT',\n 'regularMarketChangePercent': 2.5532846,\n 'quoteType': 'EQUITY',\n 'trailingAnnualDividendYield': 0.009143982,\n 'averageDailyVolume10Day': 26227860,\n 'fiftyTwoWeekLowChange': 78.17001,\n 'fiftyTwoWeekHighChangePercent': -0.03161527,\n 'typeDisp': 'Equity',\n 'trailingPE': 31.558443,\n 'tradeable': False,\n 'postMarketTime': '7:59PM EDT',\n 'currency': 'USD',\n 'sharesOutstanding': 7443800064,\n 'fiftyTwoWeekHigh': 301.12,\n 'regularMarketPreviousClose': 284.34,\n 'exchangeTimezoneName': 'America/New_York',\n 'postMarketChangePercent': 0.0,\n 'bidSize': 10,\n 'regularMarketChange': 7.26001,\n 'priceEpsCurrentYear': 31.153849,\n 'cryptoTradeable': False,\n 'fiftyDayAverage': 264.1272,\n 'exchangeTimezoneShortName': 'EDT',\n 'epsCurrentYear': 9.36,\n 'regularMarketPrice': 291.6,\n 'customPriceAlertConfidence': 'HIGH',\n 'marketState': 'CLOSED',\n 'forwardPE': 27.125582,\n 'postMarketChange': 0.0,\n 'earningsTimestamp': 1674599400,\n 'ask': 291.95,\n 'epsTrailingTwelveMonths': 9.24,\n 'bid': 291.5,\n 'priceToBook': 11.857515,\n 'triggerable': True,\n 'longName': 'Microsoft Corporation',\n 'trailingPegRatio': 2.1346}"
     },
     "execution_count": 43,
     "metadata": {},
     "output_type": "execute_result"
    }
   ],
   "source": [
    "msft.info"
   ],
   "metadata": {
    "collapsed": false,
    "ExecuteTime": {
     "start_time": "2023-04-07T17:59:33.641366Z",
     "end_time": "2023-04-07T17:59:33.649273Z"
    }
   }
  },
  {
   "cell_type": "code",
   "execution_count": 32,
   "outputs": [],
   "source": [
    "df = msft.history(period=\"1d\", interval=\"1m\", prepost=True, keepna=False)"
   ],
   "metadata": {
    "collapsed": false,
    "ExecuteTime": {
     "start_time": "2023-04-07T19:32:32.487436Z",
     "end_time": "2023-04-07T19:32:32.602629Z"
    }
   }
  },
  {
   "cell_type": "code",
   "execution_count": 34,
   "outputs": [],
   "source": [
    "df[\"Ticker\"] = \"MSFT\"\n",
    "df.loc[(df.index.time < datetime.time(hour=9, minute=30)) | (df.index.time > datetime.time(hour=16)), \"Market\"] = \"Closed\"\n",
    "df.loc[pd.isnull(df[\"Market\"]), \"Market\"] = \"Open\""
   ],
   "metadata": {
    "collapsed": false,
    "ExecuteTime": {
     "start_time": "2023-04-07T19:34:09.999622Z",
     "end_time": "2023-04-07T19:34:10.003363Z"
    }
   }
  },
  {
   "cell_type": "code",
   "execution_count": 35,
   "outputs": [
    {
     "data": {
      "text/plain": "                             Open    High     Low   Close  Volume  Dividends   \nDatetime                                                                       \n2023-04-06 04:00:00-04:00  284.00  284.50  284.00  284.48       0        0.0  \\\n2023-04-06 04:01:00-04:00  284.50  284.50  284.23  284.49       0        0.0   \n2023-04-06 04:02:00-04:00  284.50  284.50  284.30  284.30       0        0.0   \n2023-04-06 04:03:00-04:00  284.30  284.40  284.06  284.35       0        0.0   \n2023-04-06 04:04:00-04:00  284.40  284.50  284.40  284.50       0        0.0   \n...                           ...     ...     ...     ...     ...        ...   \n2023-04-06 19:55:00-04:00  291.60  291.75  291.59  291.59       0        0.0   \n2023-04-06 19:56:00-04:00  291.60  291.75  291.44  291.60       0        0.0   \n2023-04-06 19:57:00-04:00  291.66  291.86  291.59  291.62       0        0.0   \n2023-04-06 19:58:00-04:00  291.62  291.62  291.58  291.58       0        0.0   \n2023-04-06 19:59:00-04:00  291.55  291.60  291.55  291.60       0        0.0   \n\n                           Stock Splits Ticker  Market  \nDatetime                                                \n2023-04-06 04:00:00-04:00           0.0   MSFT  Closed  \n2023-04-06 04:01:00-04:00           0.0   MSFT  Closed  \n2023-04-06 04:02:00-04:00           0.0   MSFT  Closed  \n2023-04-06 04:03:00-04:00           0.0   MSFT  Closed  \n2023-04-06 04:04:00-04:00           0.0   MSFT  Closed  \n...                                 ...    ...     ...  \n2023-04-06 19:55:00-04:00           0.0   MSFT  Closed  \n2023-04-06 19:56:00-04:00           0.0   MSFT  Closed  \n2023-04-06 19:57:00-04:00           0.0   MSFT  Closed  \n2023-04-06 19:58:00-04:00           0.0   MSFT  Closed  \n2023-04-06 19:59:00-04:00           0.0   MSFT  Closed  \n\n[920 rows x 9 columns]",
      "text/html": "<div>\n<style scoped>\n    .dataframe tbody tr th:only-of-type {\n        vertical-align: middle;\n    }\n\n    .dataframe tbody tr th {\n        vertical-align: top;\n    }\n\n    .dataframe thead th {\n        text-align: right;\n    }\n</style>\n<table border=\"1\" class=\"dataframe\">\n  <thead>\n    <tr style=\"text-align: right;\">\n      <th></th>\n      <th>Open</th>\n      <th>High</th>\n      <th>Low</th>\n      <th>Close</th>\n      <th>Volume</th>\n      <th>Dividends</th>\n      <th>Stock Splits</th>\n      <th>Ticker</th>\n      <th>Market</th>\n    </tr>\n    <tr>\n      <th>Datetime</th>\n      <th></th>\n      <th></th>\n      <th></th>\n      <th></th>\n      <th></th>\n      <th></th>\n      <th></th>\n      <th></th>\n      <th></th>\n    </tr>\n  </thead>\n  <tbody>\n    <tr>\n      <th>2023-04-06 04:00:00-04:00</th>\n      <td>284.00</td>\n      <td>284.50</td>\n      <td>284.00</td>\n      <td>284.48</td>\n      <td>0</td>\n      <td>0.0</td>\n      <td>0.0</td>\n      <td>MSFT</td>\n      <td>Closed</td>\n    </tr>\n    <tr>\n      <th>2023-04-06 04:01:00-04:00</th>\n      <td>284.50</td>\n      <td>284.50</td>\n      <td>284.23</td>\n      <td>284.49</td>\n      <td>0</td>\n      <td>0.0</td>\n      <td>0.0</td>\n      <td>MSFT</td>\n      <td>Closed</td>\n    </tr>\n    <tr>\n      <th>2023-04-06 04:02:00-04:00</th>\n      <td>284.50</td>\n      <td>284.50</td>\n      <td>284.30</td>\n      <td>284.30</td>\n      <td>0</td>\n      <td>0.0</td>\n      <td>0.0</td>\n      <td>MSFT</td>\n      <td>Closed</td>\n    </tr>\n    <tr>\n      <th>2023-04-06 04:03:00-04:00</th>\n      <td>284.30</td>\n      <td>284.40</td>\n      <td>284.06</td>\n      <td>284.35</td>\n      <td>0</td>\n      <td>0.0</td>\n      <td>0.0</td>\n      <td>MSFT</td>\n      <td>Closed</td>\n    </tr>\n    <tr>\n      <th>2023-04-06 04:04:00-04:00</th>\n      <td>284.40</td>\n      <td>284.50</td>\n      <td>284.40</td>\n      <td>284.50</td>\n      <td>0</td>\n      <td>0.0</td>\n      <td>0.0</td>\n      <td>MSFT</td>\n      <td>Closed</td>\n    </tr>\n    <tr>\n      <th>...</th>\n      <td>...</td>\n      <td>...</td>\n      <td>...</td>\n      <td>...</td>\n      <td>...</td>\n      <td>...</td>\n      <td>...</td>\n      <td>...</td>\n      <td>...</td>\n    </tr>\n    <tr>\n      <th>2023-04-06 19:55:00-04:00</th>\n      <td>291.60</td>\n      <td>291.75</td>\n      <td>291.59</td>\n      <td>291.59</td>\n      <td>0</td>\n      <td>0.0</td>\n      <td>0.0</td>\n      <td>MSFT</td>\n      <td>Closed</td>\n    </tr>\n    <tr>\n      <th>2023-04-06 19:56:00-04:00</th>\n      <td>291.60</td>\n      <td>291.75</td>\n      <td>291.44</td>\n      <td>291.60</td>\n      <td>0</td>\n      <td>0.0</td>\n      <td>0.0</td>\n      <td>MSFT</td>\n      <td>Closed</td>\n    </tr>\n    <tr>\n      <th>2023-04-06 19:57:00-04:00</th>\n      <td>291.66</td>\n      <td>291.86</td>\n      <td>291.59</td>\n      <td>291.62</td>\n      <td>0</td>\n      <td>0.0</td>\n      <td>0.0</td>\n      <td>MSFT</td>\n      <td>Closed</td>\n    </tr>\n    <tr>\n      <th>2023-04-06 19:58:00-04:00</th>\n      <td>291.62</td>\n      <td>291.62</td>\n      <td>291.58</td>\n      <td>291.58</td>\n      <td>0</td>\n      <td>0.0</td>\n      <td>0.0</td>\n      <td>MSFT</td>\n      <td>Closed</td>\n    </tr>\n    <tr>\n      <th>2023-04-06 19:59:00-04:00</th>\n      <td>291.55</td>\n      <td>291.60</td>\n      <td>291.55</td>\n      <td>291.60</td>\n      <td>0</td>\n      <td>0.0</td>\n      <td>0.0</td>\n      <td>MSFT</td>\n      <td>Closed</td>\n    </tr>\n  </tbody>\n</table>\n<p>920 rows × 9 columns</p>\n</div>"
     },
     "execution_count": 35,
     "metadata": {},
     "output_type": "execute_result"
    }
   ],
   "source": [
    "df"
   ],
   "metadata": {
    "collapsed": false,
    "ExecuteTime": {
     "start_time": "2023-04-07T19:34:11.496049Z",
     "end_time": "2023-04-07T19:34:11.508054Z"
    }
   }
  },
  {
   "cell_type": "code",
   "execution_count": 43,
   "outputs": [
    {
     "data": {
      "text/plain": "{'symbol': 'MSFT',\n 'dividendDate': 1686182400,\n 'twoHundredDayAverageChangePercent': 0.1479931,\n 'fiftyTwoWeekLowChangePercent': 0.366256,\n 'averageAnalystRating': '1.9 - Buy',\n 'language': 'en-US',\n 'regularMarketDayRange': '282.03 - 292.08',\n 'earningsTimestampEnd': 1682683200,\n 'epsForward': 10.75,\n 'regularMarketDayHigh': 292.08,\n 'twoHundredDayAverageChange': 37.591507,\n 'askSize': 10,\n 'twoHundredDayAverage': 254.0085,\n 'bookValue': 24.592,\n 'fiftyTwoWeekHighChange': -9.519989,\n 'marketCap': 2170612088832,\n 'fiftyTwoWeekRange': '213.43 - 301.12',\n 'fiftyDayAverageChange': 27.472809,\n 'firstTradeDateMilliseconds': 511108200000,\n 'averageDailyVolume3Month': 31808980,\n 'exchangeDataDelayedBy': 0,\n 'trailingAnnualDividendRate': 2.6,\n 'fiftyTwoWeekLow': 213.43,\n 'market': 'us_market',\n 'regularMarketVolume': 29770334,\n 'postMarketPrice': 291.6,\n 'quoteSourceName': 'Delayed Quote',\n 'messageBoardId': 'finmb_21835',\n 'priceHint': 2,\n 'exchange': 'NMS',\n 'regularMarketDayLow': 282.03,\n 'sourceInterval': 15,\n 'shortName': 'Microsoft Corporation',\n 'region': 'US',\n 'fiftyDayAverageChangePercent': 0.104013555,\n 'fullExchangeName': 'NasdaqGS',\n 'earningsTimestampStart': 1682333940,\n 'financialCurrency': 'USD',\n 'displayName': 'Microsoft',\n 'gmtOffSetMilliseconds': -14400000,\n 'regularMarketOpen': 283.21,\n 'regularMarketTime': '4:00PM EDT',\n 'regularMarketChangePercent': 2.5532846,\n 'quoteType': 'EQUITY',\n 'trailingAnnualDividendYield': 0.009143982,\n 'fiftyTwoWeekLowChange': 78.17001,\n 'averageDailyVolume10Day': 26227860,\n 'fiftyTwoWeekHighChangePercent': -0.03161527,\n 'typeDisp': 'Equity',\n 'trailingPE': 31.558443,\n 'tradeable': False,\n 'postMarketTime': '7:59PM EDT',\n 'currency': 'USD',\n 'sharesOutstanding': 7443800064,\n 'regularMarketPreviousClose': 284.34,\n 'fiftyTwoWeekHigh': 301.12,\n 'exchangeTimezoneName': 'America/New_York',\n 'postMarketChangePercent': 0.0,\n 'regularMarketChange': 7.26001,\n 'bidSize': 10,\n 'priceEpsCurrentYear': 31.153849,\n 'cryptoTradeable': False,\n 'fiftyDayAverage': 264.1272,\n 'exchangeTimezoneShortName': 'EDT',\n 'epsCurrentYear': 9.36,\n 'regularMarketPrice': 291.6,\n 'customPriceAlertConfidence': 'HIGH',\n 'marketState': 'CLOSED',\n 'postMarketChange': 0.0,\n 'forwardPE': 27.125582,\n 'earningsTimestamp': 1674599400,\n 'ask': 291.95,\n 'epsTrailingTwelveMonths': 9.24,\n 'bid': 291.5,\n 'triggerable': True,\n 'priceToBook': 11.857515,\n 'longName': 'Microsoft Corporation',\n 'trailingPegRatio': 2.1346}"
     },
     "execution_count": 43,
     "metadata": {},
     "output_type": "execute_result"
    }
   ],
   "source": [
    "msft.info"
   ],
   "metadata": {
    "collapsed": false,
    "ExecuteTime": {
     "start_time": "2023-04-07T19:54:08.159403Z",
     "end_time": "2023-04-07T19:54:08.284372Z"
    }
   }
  },
  {
   "cell_type": "code",
   "execution_count": null,
   "outputs": [],
   "source": [],
   "metadata": {
    "collapsed": false
   }
  }
 ],
 "metadata": {
  "kernelspec": {
   "display_name": "Python 3",
   "language": "python",
   "name": "python3"
  },
  "language_info": {
   "codemirror_mode": {
    "name": "ipython",
    "version": 2
   },
   "file_extension": ".py",
   "mimetype": "text/x-python",
   "name": "python",
   "nbconvert_exporter": "python",
   "pygments_lexer": "ipython2",
   "version": "2.7.6"
  }
 },
 "nbformat": 4,
 "nbformat_minor": 0
}
