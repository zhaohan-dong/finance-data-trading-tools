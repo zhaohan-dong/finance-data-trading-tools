{
 "cells": [
  {
   "cell_type": "code",
   "execution_count": 1,
   "metadata": {
    "collapsed": true,
    "ExecuteTime": {
     "end_time": "2023-05-28T21:48:01.812247Z",
     "start_time": "2023-05-28T21:48:01.093459Z"
    }
   },
   "outputs": [],
   "source": [
    "import yahoo_finance_data as yfd\n",
    "import pandas as pd"
   ]
  },
  {
   "cell_type": "code",
   "execution_count": 3,
   "outputs": [],
   "source": [
    "loader = yfd.YahooBatchLoader()"
   ],
   "metadata": {
    "collapsed": false,
    "ExecuteTime": {
     "end_time": "2023-05-28T21:48:11.255732Z",
     "start_time": "2023-05-28T21:48:11.251715Z"
    }
   }
  },
  {
   "cell_type": "code",
   "execution_count": 44,
   "outputs": [],
   "source": [
    "df = loader.get_historical_prices(\"IMAX\", prepost=False)"
   ],
   "metadata": {
    "collapsed": false,
    "ExecuteTime": {
     "end_time": "2023-05-28T21:20:18.017739Z",
     "start_time": "2023-05-28T21:20:17.848666Z"
    }
   }
  },
  {
   "cell_type": "code",
   "execution_count": 45,
   "outputs": [
    {
     "data": {
      "text/plain": "                      Datetime Ticker       Open       High        Low   \n0    2023-05-22 09:30:00-04:00   IMAX  19.000000  19.000000  19.000000  \\\n1    2023-05-22 09:31:00-04:00   IMAX  18.870001  18.961000  18.870001   \n2    2023-05-22 09:34:00-04:00   IMAX  18.920000  18.920000  18.920000   \n3    2023-05-22 09:35:00-04:00   IMAX  18.879999  18.900000  18.879999   \n4    2023-05-22 09:36:00-04:00   IMAX  18.920000  18.920000  18.900000   \n...                        ...    ...        ...        ...        ...   \n1334 2023-05-26 15:55:00-04:00   IMAX  17.170000  17.170000  17.155001   \n1335 2023-05-26 15:56:00-04:00   IMAX  17.170000  17.170000  17.160000   \n1336 2023-05-26 15:57:00-04:00   IMAX  17.165001  17.165001  17.129999   \n1337 2023-05-26 15:58:00-04:00   IMAX  17.150000  17.184999  17.150000   \n1338 2023-05-26 15:59:00-04:00   IMAX  17.174999  17.200001  17.170000   \n\n          Close  Adj Close  Volume  Dividends  Stock Splits Market  \n0     19.000000  19.000000       0        0.0           0.0   Open  \n1     18.961000  18.961000    3700        0.0           0.0   Open  \n2     18.920000  18.920000     205        0.0           0.0   Open  \n3     18.900000  18.900000     311        0.0           0.0   Open  \n4     18.900000  18.900000     350        0.0           0.0   Open  \n...         ...        ...     ...        ...           ...    ...  \n1334  17.170000  17.170000    9460        0.0           0.0   Open  \n1335  17.160000  17.160000    4270        0.0           0.0   Open  \n1336  17.145000  17.145000   13241        0.0           0.0   Open  \n1337  17.174999  17.174999   13868        0.0           0.0   Open  \n1338  17.190001  17.190001   21947        0.0           0.0   Open  \n\n[1339 rows x 11 columns]",
      "text/html": "<div>\n<style scoped>\n    .dataframe tbody tr th:only-of-type {\n        vertical-align: middle;\n    }\n\n    .dataframe tbody tr th {\n        vertical-align: top;\n    }\n\n    .dataframe thead th {\n        text-align: right;\n    }\n</style>\n<table border=\"1\" class=\"dataframe\">\n  <thead>\n    <tr style=\"text-align: right;\">\n      <th></th>\n      <th>Datetime</th>\n      <th>Ticker</th>\n      <th>Open</th>\n      <th>High</th>\n      <th>Low</th>\n      <th>Close</th>\n      <th>Adj Close</th>\n      <th>Volume</th>\n      <th>Dividends</th>\n      <th>Stock Splits</th>\n      <th>Market</th>\n    </tr>\n  </thead>\n  <tbody>\n    <tr>\n      <th>0</th>\n      <td>2023-05-22 09:30:00-04:00</td>\n      <td>IMAX</td>\n      <td>19.000000</td>\n      <td>19.000000</td>\n      <td>19.000000</td>\n      <td>19.000000</td>\n      <td>19.000000</td>\n      <td>0</td>\n      <td>0.0</td>\n      <td>0.0</td>\n      <td>Open</td>\n    </tr>\n    <tr>\n      <th>1</th>\n      <td>2023-05-22 09:31:00-04:00</td>\n      <td>IMAX</td>\n      <td>18.870001</td>\n      <td>18.961000</td>\n      <td>18.870001</td>\n      <td>18.961000</td>\n      <td>18.961000</td>\n      <td>3700</td>\n      <td>0.0</td>\n      <td>0.0</td>\n      <td>Open</td>\n    </tr>\n    <tr>\n      <th>2</th>\n      <td>2023-05-22 09:34:00-04:00</td>\n      <td>IMAX</td>\n      <td>18.920000</td>\n      <td>18.920000</td>\n      <td>18.920000</td>\n      <td>18.920000</td>\n      <td>18.920000</td>\n      <td>205</td>\n      <td>0.0</td>\n      <td>0.0</td>\n      <td>Open</td>\n    </tr>\n    <tr>\n      <th>3</th>\n      <td>2023-05-22 09:35:00-04:00</td>\n      <td>IMAX</td>\n      <td>18.879999</td>\n      <td>18.900000</td>\n      <td>18.879999</td>\n      <td>18.900000</td>\n      <td>18.900000</td>\n      <td>311</td>\n      <td>0.0</td>\n      <td>0.0</td>\n      <td>Open</td>\n    </tr>\n    <tr>\n      <th>4</th>\n      <td>2023-05-22 09:36:00-04:00</td>\n      <td>IMAX</td>\n      <td>18.920000</td>\n      <td>18.920000</td>\n      <td>18.900000</td>\n      <td>18.900000</td>\n      <td>18.900000</td>\n      <td>350</td>\n      <td>0.0</td>\n      <td>0.0</td>\n      <td>Open</td>\n    </tr>\n    <tr>\n      <th>...</th>\n      <td>...</td>\n      <td>...</td>\n      <td>...</td>\n      <td>...</td>\n      <td>...</td>\n      <td>...</td>\n      <td>...</td>\n      <td>...</td>\n      <td>...</td>\n      <td>...</td>\n      <td>...</td>\n    </tr>\n    <tr>\n      <th>1334</th>\n      <td>2023-05-26 15:55:00-04:00</td>\n      <td>IMAX</td>\n      <td>17.170000</td>\n      <td>17.170000</td>\n      <td>17.155001</td>\n      <td>17.170000</td>\n      <td>17.170000</td>\n      <td>9460</td>\n      <td>0.0</td>\n      <td>0.0</td>\n      <td>Open</td>\n    </tr>\n    <tr>\n      <th>1335</th>\n      <td>2023-05-26 15:56:00-04:00</td>\n      <td>IMAX</td>\n      <td>17.170000</td>\n      <td>17.170000</td>\n      <td>17.160000</td>\n      <td>17.160000</td>\n      <td>17.160000</td>\n      <td>4270</td>\n      <td>0.0</td>\n      <td>0.0</td>\n      <td>Open</td>\n    </tr>\n    <tr>\n      <th>1336</th>\n      <td>2023-05-26 15:57:00-04:00</td>\n      <td>IMAX</td>\n      <td>17.165001</td>\n      <td>17.165001</td>\n      <td>17.129999</td>\n      <td>17.145000</td>\n      <td>17.145000</td>\n      <td>13241</td>\n      <td>0.0</td>\n      <td>0.0</td>\n      <td>Open</td>\n    </tr>\n    <tr>\n      <th>1337</th>\n      <td>2023-05-26 15:58:00-04:00</td>\n      <td>IMAX</td>\n      <td>17.150000</td>\n      <td>17.184999</td>\n      <td>17.150000</td>\n      <td>17.174999</td>\n      <td>17.174999</td>\n      <td>13868</td>\n      <td>0.0</td>\n      <td>0.0</td>\n      <td>Open</td>\n    </tr>\n    <tr>\n      <th>1338</th>\n      <td>2023-05-26 15:59:00-04:00</td>\n      <td>IMAX</td>\n      <td>17.174999</td>\n      <td>17.200001</td>\n      <td>17.170000</td>\n      <td>17.190001</td>\n      <td>17.190001</td>\n      <td>21947</td>\n      <td>0.0</td>\n      <td>0.0</td>\n      <td>Open</td>\n    </tr>\n  </tbody>\n</table>\n<p>1339 rows × 11 columns</p>\n</div>"
     },
     "execution_count": 45,
     "metadata": {},
     "output_type": "execute_result"
    }
   ],
   "source": [
    "df"
   ],
   "metadata": {
    "collapsed": false,
    "ExecuteTime": {
     "end_time": "2023-05-28T21:20:18.256034Z",
     "start_time": "2023-05-28T21:20:18.252733Z"
    }
   }
  },
  {
   "cell_type": "code",
   "execution_count": 46,
   "outputs": [],
   "source": [
    "import vectorbt as vbt\n",
    "\n",
    "price = df.set_index(\"Datetime\").loc[:, \"Close\"]"
   ],
   "metadata": {
    "collapsed": false,
    "ExecuteTime": {
     "end_time": "2023-05-28T21:20:25.654499Z",
     "start_time": "2023-05-28T21:20:25.651220Z"
    }
   }
  },
  {
   "cell_type": "code",
   "execution_count": 49,
   "outputs": [
    {
     "data": {
      "text/plain": "-1.8106819435448216"
     },
     "execution_count": 49,
     "metadata": {},
     "output_type": "execute_result"
    }
   ],
   "source": [
    "fast_ma = vbt.MA.run(price, 10)\n",
    "slow_ma = vbt.MA.run(price, 50)\n",
    "entries = fast_ma.ma_crossed_above(slow_ma)\n",
    "exits = fast_ma.ma_crossed_below(slow_ma)\n",
    "\n",
    "pf = vbt.Portfolio.from_signals(price, entries, exits, init_cash=100)\n",
    "pf.total_profit()"
   ],
   "metadata": {
    "collapsed": false,
    "ExecuteTime": {
     "end_time": "2023-05-28T21:20:30.595378Z",
     "start_time": "2023-05-28T21:20:30.592882Z"
    }
   }
  },
  {
   "cell_type": "code",
   "execution_count": 7,
   "outputs": [],
   "source": [
    "yfd.to_parquet(loader.get_historical_prices(\"IMAX\"), root_dir=\"./data\")"
   ],
   "metadata": {
    "collapsed": false,
    "ExecuteTime": {
     "end_time": "2023-05-28T21:49:06.438645Z",
     "start_time": "2023-05-28T21:49:06.252040Z"
    }
   }
  },
  {
   "cell_type": "code",
   "execution_count": null,
   "outputs": [],
   "source": [],
   "metadata": {
    "collapsed": false
   }
  }
 ],
 "metadata": {
  "kernelspec": {
   "display_name": "Python 3",
   "language": "python",
   "name": "python3"
  },
  "language_info": {
   "codemirror_mode": {
    "name": "ipython",
    "version": 2
   },
   "file_extension": ".py",
   "mimetype": "text/x-python",
   "name": "python",
   "nbconvert_exporter": "python",
   "pygments_lexer": "ipython2",
   "version": "2.7.6"
  }
 },
 "nbformat": 4,
 "nbformat_minor": 0
}
