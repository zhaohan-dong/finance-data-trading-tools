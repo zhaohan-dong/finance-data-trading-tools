{
 "cells": [
  {
   "cell_type": "code",
   "execution_count": 1,
   "metadata": {
    "collapsed": true,
    "ExecuteTime": {
     "end_time": "2023-05-28T23:04:14.931525Z",
     "start_time": "2023-05-28T23:04:14.426980Z"
    }
   },
   "outputs": [],
   "source": [
    "import yahoo_finance_data as yfd\n",
    "import pandas as pd"
   ]
  },
  {
   "cell_type": "code",
   "execution_count": null,
   "outputs": [],
   "source": [
    "loader = yfd.YahooBatchLoader()"
   ],
   "metadata": {
    "collapsed": false
   }
  },
  {
   "cell_type": "code",
   "execution_count": 3,
   "outputs": [],
   "source": [
    "import vectorbt as vbt\n",
    "\n",
    "df = yfd.files.read_parquet(root_dir=\"./data\", tickers=\"IMAX\")\n",
    "\n",
    "price = df.loc[df.Market==\"Open\", [\"Close\", \"Datetime\"]].set_index(\"Datetime\")[\"Close\"]"
   ],
   "metadata": {
    "collapsed": false,
    "ExecuteTime": {
     "end_time": "2023-05-28T22:32:06.242722Z",
     "start_time": "2023-05-28T22:32:04.774293Z"
    }
   }
  },
  {
   "cell_type": "code",
   "execution_count": 4,
   "outputs": [
    {
     "data": {
      "text/plain": "-1.8106819435448216"
     },
     "execution_count": 4,
     "metadata": {},
     "output_type": "execute_result"
    }
   ],
   "source": [
    "fast_ma = vbt.MA.run(price, 10)\n",
    "slow_ma = vbt.MA.run(price, 50)\n",
    "entries = fast_ma.ma_crossed_above(slow_ma)\n",
    "exits = fast_ma.ma_crossed_below(slow_ma)\n",
    "\n",
    "pf = vbt.Portfolio.from_signals(price, entries, exits, init_cash=100)\n",
    "pf.total_profit()"
   ],
   "metadata": {
    "collapsed": false,
    "ExecuteTime": {
     "end_time": "2023-05-28T22:32:10.970186Z",
     "start_time": "2023-05-28T22:32:08.560102Z"
    }
   }
  },
  {
   "cell_type": "code",
   "execution_count": 5,
   "outputs": [
    {
     "data": {
      "text/plain": "                          Ticker       Open    High        Low   Close   \nDatetime                                                                 \n2023-05-22 09:30:00-04:00   IMAX  19.000000  19.000  19.000000  19.000  \\\n2023-05-22 09:31:00-04:00   IMAX  18.870001  18.961  18.870001  18.961   \n2023-05-22 09:34:00-04:00   IMAX  18.920000  18.920  18.920000  18.920   \n2023-05-22 09:35:00-04:00   IMAX  18.879999  18.900  18.879999  18.900   \n2023-05-22 09:36:00-04:00   IMAX  18.920000  18.920  18.900000  18.900   \n...                          ...        ...     ...        ...     ...   \n2023-05-26 16:06:00-04:00   IMAX  17.010000  17.010  17.010000  17.010   \n2023-05-26 16:07:00-04:00   IMAX  17.200000  17.200  17.200000  17.200   \n2023-05-26 17:33:00-04:00   IMAX  17.330000  17.330  17.330000  17.330   \n2023-05-26 18:39:00-04:00   IMAX  17.320000  17.320  17.320000  17.320   \n2023-05-26 18:42:00-04:00   IMAX  17.330000  17.330  17.330000  17.330   \n\n                           Adj Close  Volume  Dividends  Stock Splits  Market  \nDatetime                                                                       \n2023-05-22 09:30:00-04:00     19.000       0        0.0           0.0    Open  \n2023-05-22 09:31:00-04:00     18.961    3700        0.0           0.0    Open  \n2023-05-22 09:34:00-04:00     18.920     205        0.0           0.0    Open  \n2023-05-22 09:35:00-04:00     18.900     311        0.0           0.0    Open  \n2023-05-22 09:36:00-04:00     18.900     350        0.0           0.0    Open  \n...                              ...     ...        ...           ...     ...  \n2023-05-26 16:06:00-04:00     17.010       0        0.0           0.0  Closed  \n2023-05-26 16:07:00-04:00     17.200       0        0.0           0.0  Closed  \n2023-05-26 17:33:00-04:00     17.330       0        0.0           0.0  Closed  \n2023-05-26 18:39:00-04:00     17.320       0        0.0           0.0  Closed  \n2023-05-26 18:42:00-04:00     17.330       0        0.0           0.0  Closed  \n\n[1371 rows x 10 columns]",
      "text/html": "<div>\n<style scoped>\n    .dataframe tbody tr th:only-of-type {\n        vertical-align: middle;\n    }\n\n    .dataframe tbody tr th {\n        vertical-align: top;\n    }\n\n    .dataframe thead th {\n        text-align: right;\n    }\n</style>\n<table border=\"1\" class=\"dataframe\">\n  <thead>\n    <tr style=\"text-align: right;\">\n      <th></th>\n      <th>Ticker</th>\n      <th>Open</th>\n      <th>High</th>\n      <th>Low</th>\n      <th>Close</th>\n      <th>Adj Close</th>\n      <th>Volume</th>\n      <th>Dividends</th>\n      <th>Stock Splits</th>\n      <th>Market</th>\n    </tr>\n    <tr>\n      <th>Datetime</th>\n      <th></th>\n      <th></th>\n      <th></th>\n      <th></th>\n      <th></th>\n      <th></th>\n      <th></th>\n      <th></th>\n      <th></th>\n      <th></th>\n    </tr>\n  </thead>\n  <tbody>\n    <tr>\n      <th>2023-05-22 09:30:00-04:00</th>\n      <td>IMAX</td>\n      <td>19.000000</td>\n      <td>19.000</td>\n      <td>19.000000</td>\n      <td>19.000</td>\n      <td>19.000</td>\n      <td>0</td>\n      <td>0.0</td>\n      <td>0.0</td>\n      <td>Open</td>\n    </tr>\n    <tr>\n      <th>2023-05-22 09:31:00-04:00</th>\n      <td>IMAX</td>\n      <td>18.870001</td>\n      <td>18.961</td>\n      <td>18.870001</td>\n      <td>18.961</td>\n      <td>18.961</td>\n      <td>3700</td>\n      <td>0.0</td>\n      <td>0.0</td>\n      <td>Open</td>\n    </tr>\n    <tr>\n      <th>2023-05-22 09:34:00-04:00</th>\n      <td>IMAX</td>\n      <td>18.920000</td>\n      <td>18.920</td>\n      <td>18.920000</td>\n      <td>18.920</td>\n      <td>18.920</td>\n      <td>205</td>\n      <td>0.0</td>\n      <td>0.0</td>\n      <td>Open</td>\n    </tr>\n    <tr>\n      <th>2023-05-22 09:35:00-04:00</th>\n      <td>IMAX</td>\n      <td>18.879999</td>\n      <td>18.900</td>\n      <td>18.879999</td>\n      <td>18.900</td>\n      <td>18.900</td>\n      <td>311</td>\n      <td>0.0</td>\n      <td>0.0</td>\n      <td>Open</td>\n    </tr>\n    <tr>\n      <th>2023-05-22 09:36:00-04:00</th>\n      <td>IMAX</td>\n      <td>18.920000</td>\n      <td>18.920</td>\n      <td>18.900000</td>\n      <td>18.900</td>\n      <td>18.900</td>\n      <td>350</td>\n      <td>0.0</td>\n      <td>0.0</td>\n      <td>Open</td>\n    </tr>\n    <tr>\n      <th>...</th>\n      <td>...</td>\n      <td>...</td>\n      <td>...</td>\n      <td>...</td>\n      <td>...</td>\n      <td>...</td>\n      <td>...</td>\n      <td>...</td>\n      <td>...</td>\n      <td>...</td>\n    </tr>\n    <tr>\n      <th>2023-05-26 16:06:00-04:00</th>\n      <td>IMAX</td>\n      <td>17.010000</td>\n      <td>17.010</td>\n      <td>17.010000</td>\n      <td>17.010</td>\n      <td>17.010</td>\n      <td>0</td>\n      <td>0.0</td>\n      <td>0.0</td>\n      <td>Closed</td>\n    </tr>\n    <tr>\n      <th>2023-05-26 16:07:00-04:00</th>\n      <td>IMAX</td>\n      <td>17.200000</td>\n      <td>17.200</td>\n      <td>17.200000</td>\n      <td>17.200</td>\n      <td>17.200</td>\n      <td>0</td>\n      <td>0.0</td>\n      <td>0.0</td>\n      <td>Closed</td>\n    </tr>\n    <tr>\n      <th>2023-05-26 17:33:00-04:00</th>\n      <td>IMAX</td>\n      <td>17.330000</td>\n      <td>17.330</td>\n      <td>17.330000</td>\n      <td>17.330</td>\n      <td>17.330</td>\n      <td>0</td>\n      <td>0.0</td>\n      <td>0.0</td>\n      <td>Closed</td>\n    </tr>\n    <tr>\n      <th>2023-05-26 18:39:00-04:00</th>\n      <td>IMAX</td>\n      <td>17.320000</td>\n      <td>17.320</td>\n      <td>17.320000</td>\n      <td>17.320</td>\n      <td>17.320</td>\n      <td>0</td>\n      <td>0.0</td>\n      <td>0.0</td>\n      <td>Closed</td>\n    </tr>\n    <tr>\n      <th>2023-05-26 18:42:00-04:00</th>\n      <td>IMAX</td>\n      <td>17.330000</td>\n      <td>17.330</td>\n      <td>17.330000</td>\n      <td>17.330</td>\n      <td>17.330</td>\n      <td>0</td>\n      <td>0.0</td>\n      <td>0.0</td>\n      <td>Closed</td>\n    </tr>\n  </tbody>\n</table>\n<p>1371 rows × 10 columns</p>\n</div>"
     },
     "execution_count": 5,
     "metadata": {},
     "output_type": "execute_result"
    }
   ],
   "source": [
    "df.set_index(\"Datetime\")"
   ],
   "metadata": {
    "collapsed": false,
    "ExecuteTime": {
     "end_time": "2023-05-28T22:18:36.394319Z",
     "start_time": "2023-05-28T22:18:36.374040Z"
    }
   }
  },
  {
   "cell_type": "code",
   "execution_count": 27,
   "outputs": [],
   "source": [
    "price = vbt.YFData.download(\"IMAX\", interval=\"1m\").get(\"Close\")"
   ],
   "metadata": {
    "collapsed": false,
    "ExecuteTime": {
     "end_time": "2023-05-28T22:29:03.548329Z",
     "start_time": "2023-05-28T22:29:03.397474Z"
    }
   }
  },
  {
   "cell_type": "code",
   "execution_count": 23,
   "outputs": [
    {
     "ename": "AttributeError",
     "evalue": "'Series' object has no attribute 'set_index'",
     "output_type": "error",
     "traceback": [
      "\u001B[0;31m---------------------------------------------------------------------------\u001B[0m",
      "\u001B[0;31mAttributeError\u001B[0m                            Traceback (most recent call last)",
      "\u001B[0;32m/var/folders/jt/8zxbvc1n7gv361p3ln6df0900000gn/T/ipykernel_6389/3663398661.py\u001B[0m in \u001B[0;36m?\u001B[0;34m()\u001B[0m\n\u001B[0;32m----> 1\u001B[0;31m \u001B[0mprice\u001B[0m\u001B[0;34m.\u001B[0m\u001B[0mset_index\u001B[0m\u001B[0;34m(\u001B[0m\u001B[0;34m\"Datetime\"\u001B[0m\u001B[0;34m)\u001B[0m\u001B[0;34m[\u001B[0m\u001B[0;34m\"Close\"\u001B[0m\u001B[0;34m]\u001B[0m\u001B[0;34m\u001B[0m\u001B[0;34m\u001B[0m\u001B[0m\n\u001B[0m",
      "\u001B[0;32m/Volumes/Diskette1/dev-project/finance-data-trading-tools/venv/lib/python3.10/site-packages/pandas/core/generic.py\u001B[0m in \u001B[0;36m?\u001B[0;34m(self, name)\u001B[0m\n\u001B[1;32m   5985\u001B[0m             \u001B[0;32mand\u001B[0m \u001B[0mname\u001B[0m \u001B[0;32mnot\u001B[0m \u001B[0;32min\u001B[0m \u001B[0mself\u001B[0m\u001B[0;34m.\u001B[0m\u001B[0m_accessors\u001B[0m\u001B[0;34m\u001B[0m\u001B[0;34m\u001B[0m\u001B[0m\n\u001B[1;32m   5986\u001B[0m             \u001B[0;32mand\u001B[0m \u001B[0mself\u001B[0m\u001B[0;34m.\u001B[0m\u001B[0m_info_axis\u001B[0m\u001B[0;34m.\u001B[0m\u001B[0m_can_hold_identifiers_and_holds_name\u001B[0m\u001B[0;34m(\u001B[0m\u001B[0mname\u001B[0m\u001B[0;34m)\u001B[0m\u001B[0;34m\u001B[0m\u001B[0;34m\u001B[0m\u001B[0m\n\u001B[1;32m   5987\u001B[0m         ):\n\u001B[1;32m   5988\u001B[0m             \u001B[0;32mreturn\u001B[0m \u001B[0mself\u001B[0m\u001B[0;34m[\u001B[0m\u001B[0mname\u001B[0m\u001B[0;34m]\u001B[0m\u001B[0;34m\u001B[0m\u001B[0;34m\u001B[0m\u001B[0m\n\u001B[0;32m-> 5989\u001B[0;31m         \u001B[0;32mreturn\u001B[0m \u001B[0mobject\u001B[0m\u001B[0;34m.\u001B[0m\u001B[0m__getattribute__\u001B[0m\u001B[0;34m(\u001B[0m\u001B[0mself\u001B[0m\u001B[0;34m,\u001B[0m \u001B[0mname\u001B[0m\u001B[0;34m)\u001B[0m\u001B[0;34m\u001B[0m\u001B[0;34m\u001B[0m\u001B[0m\n\u001B[0m",
      "\u001B[0;31mAttributeError\u001B[0m: 'Series' object has no attribute 'set_index'"
     ]
    }
   ],
   "source": [
    "price"
   ],
   "metadata": {
    "collapsed": false,
    "ExecuteTime": {
     "end_time": "2023-05-28T22:28:44.361180Z",
     "start_time": "2023-05-28T22:28:44.357416Z"
    }
   }
  },
  {
   "cell_type": "code",
   "execution_count": 21,
   "outputs": [
    {
     "data": {
      "text/plain": "pandas.core.series.Series"
     },
     "execution_count": 21,
     "metadata": {},
     "output_type": "execute_result"
    }
   ],
   "source": [
    "type(price)"
   ],
   "metadata": {
    "collapsed": false,
    "ExecuteTime": {
     "end_time": "2023-05-28T22:22:14.724898Z",
     "start_time": "2023-05-28T22:22:14.713978Z"
    }
   }
  },
  {
   "cell_type": "code",
   "execution_count": 22,
   "outputs": [
    {
     "data": {
      "text/plain": "Datetime\n2023-05-22 13:30:00+00:00    19.000000\n2023-05-22 13:31:00+00:00    18.961000\n2023-05-22 13:34:00+00:00    18.920000\n2023-05-22 13:35:00+00:00    18.900000\n2023-05-22 13:36:00+00:00    18.900000\n                               ...    \n2023-05-26 19:55:00+00:00    17.170000\n2023-05-26 19:56:00+00:00    17.160000\n2023-05-26 19:57:00+00:00    17.145000\n2023-05-26 19:58:00+00:00    17.174999\n2023-05-26 19:59:00+00:00    17.190001\nName: Close, Length: 1339, dtype: float64"
     },
     "execution_count": 22,
     "metadata": {},
     "output_type": "execute_result"
    }
   ],
   "source": [
    "price"
   ],
   "metadata": {
    "collapsed": false,
    "ExecuteTime": {
     "end_time": "2023-05-28T22:22:22.705503Z",
     "start_time": "2023-05-28T22:22:22.692614Z"
    }
   }
  },
  {
   "cell_type": "code",
   "execution_count": null,
   "outputs": [],
   "source": [],
   "metadata": {
    "collapsed": false
   }
  }
 ],
 "metadata": {
  "kernelspec": {
   "display_name": "Python 3",
   "language": "python",
   "name": "python3"
  },
  "language_info": {
   "codemirror_mode": {
    "name": "ipython",
    "version": 2
   },
   "file_extension": ".py",
   "mimetype": "text/x-python",
   "name": "python",
   "nbconvert_exporter": "python",
   "pygments_lexer": "ipython2",
   "version": "2.7.6"
  }
 },
 "nbformat": 4,
 "nbformat_minor": 0
}
